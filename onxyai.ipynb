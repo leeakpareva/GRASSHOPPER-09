{
 "cells": [
  {
   "metadata": {},
   "cell_type": "markdown",
   "source": "",
   "id": "b6b6a1c56a19f69d"
  },
  {
   "metadata": {},
   "cell_type": "code",
   "outputs": [],
   "execution_count": null,
   "source": "",
   "id": "761f4b79126e8996"
  },
  {
   "metadata": {},
   "cell_type": "markdown",
   "source": "",
   "id": "260194ff9529ddb8"
  },
  {
   "metadata": {},
   "cell_type": "markdown",
   "source": "",
   "id": "d133c2e4352f894f"
  }
 ],
 "metadata": {
  "kernelspec": {
   "display_name": "Python 3",
   "language": "python",
   "name": "python3"
  },
  "language_info": {
   "codemirror_mode": {
    "name": "ipython",
    "version": 2
   },
   "file_extension": ".py",
   "mimetype": "text/x-python",
   "name": "python",
   "nbconvert_exporter": "python",
   "pygments_lexer": "ipython2",
   "version": "2.7.6"
  }
 },
 "nbformat": 4,
 "nbformat_minor": 5
}
